{
 "cells": [
  {
   "cell_type": "markdown",
   "metadata": {},
   "source": [
    "<img src=\"http://imgur.com/1ZcRyrc.png\" style=\"float: left; margin: 20px; height: 55px\">\n",
    "\n",
    "# Project 1: Data Analysis of Singapore Rainfall"
   ]
  },
  {
   "cell_type": "markdown",
   "metadata": {},
   "source": [
    "--- \n",
    "# Part 1\n",
    "\n",
    "Part 1 requires knowledge of basic Python.\n",
    "\n",
    "---"
   ]
  },
  {
   "cell_type": "markdown",
   "metadata": {},
   "source": [
    "### Contents:\n",
    "- [Background](#Background)\n",
    "- [Data Import & Cleaning](#Data-Import-and-Cleaning)\n",
    "- [Exploratory Data Analysis](#Exploratory-Data-Analysis)\n",
    "- [Data Visualization](#Visualize-the-Data)\n",
    "- [Conclusions and Recommendations](#Conclusions-and-Recommendations)"
   ]
  },
  {
   "cell_type": "markdown",
   "metadata": {},
   "source": [
    "## Background"
   ]
  },
  {
   "cell_type": "markdown",
   "metadata": {},
   "source": [
    "According to the [Meteorological Services Singapore](http://www.weather.gov.sg/climate-climate-of-singapore/#:~:text=Singapore%20is%20situated%20near%20the,month%2Dto%2Dmonth%20variation.), Singapore has typical tropical climate with adundant rainfall, high and uniform temperatures and high humidity all year round, since its situated near the equator. There are many factors that help us understand the climate of a country and in this project we are going to look into a few, especially rainfall.\n",
    "\n",
    "Singapore’s climate is characterised by two main monsoon seasons separated by inter-monsoonal periods.  The **Northeast Monsoon** occurs from December to early March, and the **Southwest Monsoon** from June to September.\n",
    "\n",
    "The major weather systems affecting Singapore that can lead to heavy rainfall are:\n",
    "\n",
    "-Monsoon surges, or strong wind episodes in the Northeast Monsoon flow bringing about major rainfall events;\n",
    "\n",
    "-Sumatra squalls, an organised line of thunderstorms travelling eastward across Singapore, having developed over the island of Sumatra or Straits of Malacca west of us;\n",
    "\n",
    "-Afternoon and evening thunderstorms caused by strong surface heating and by the sea breeze circulation that develops in the afternoon.\n",
    "\n",
    "Singapore’s climate station has been located at several different sites in the past 140 years. The station had been decommissioned at various points in the past due to changes to local land use in the site’s vicinity, and had to be relocated. Since 1984, the climate station has been located at **Changi**.\n",
    "\n",
    "There are other metrics of climate such as temperature, humidity, sun shine duration, wind speed, cloud cover etc. All the dataset used in the project comes from [data.gov.sg](data.gov.sg), as recorded at the Changi climate station \n"
   ]
  },
  {
   "cell_type": "markdown",
   "metadata": {},
   "source": [
    "### Choose your Data\n",
    "\n",
    "There are 2 datasets included in the [`data`](./data/) folder for this project. These correponds to rainfall information. \n",
    "\n",
    "* [`rainfall-monthly-number-of-rain-days.csv`](./data/rainfall-monthly-number-of-rain-days.csv): Monthly number of rain days from 1982 to 2022. A day is considered to have “rained” if the total rainfall for that day is 0.2mm or more.\n",
    "* [`rainfall-monthly-total.csv`](./data/rainfall-monthly-total.csv): Monthly total rain recorded in mm(millimeters) from 1982 to 2022\n",
    "\n",
    "Other relevant weather datasets from [data.gov.sg](data.gov.sg) that you can download and use are as follows:\n",
    "\n",
    "* [Relative Humidity](https://data.gov.sg/dataset/relative-humidity-monthly-mean)\n",
    "* [Monthly Maximum Daily Rainfall](https://data.gov.sg/dataset/rainfall-monthly-maximum-daily-total)\n",
    "* [Hourly wet buld temperature](https://data.gov.sg/dataset/wet-bulb-temperature-hourly)\n",
    "* [Monthly mean sunshine hours](https://data.gov.sg/dataset/sunshine-duration-monthly-mean-daily-duration)\n",
    "* [Surface Air Temperature](https://data.gov.sg/dataset/surface-air-temperature-mean-daily-minimum)\n",
    "\n",
    "You can also use other datasets for your analysis, make sure to cite the source when you are using them"
   ]
  },
  {
   "cell_type": "markdown",
   "metadata": {},
   "source": [
    "The datasets I will use are the rainfall-monthly-number-of-rain-days.csv and MobileDataUsage.csv.\n",
    "\n",
    "**rainfall-monthly-number-of-rain-days.csv**: Monthly number of rain days from 1982 to 2022. A day is considered to have “rained” if the total rainfall for that day is 0.2mm or more.\n",
    "\n",
    "Source: https://beta.data.gov.sg/datasets/1398/view\n",
    "\n",
    "**MobileDataUsage.csv**: Quarterly amount of mobile data usage from 2004 to 2019. These values are measured in petabytes. \n",
    "\n",
    "Source: https://beta.data.gov.sg/datasets/213/view"
   ]
  },
  {
   "cell_type": "markdown",
   "metadata": {},
   "source": [
    "## Problem Statement"
   ]
  },
  {
   "cell_type": "markdown",
   "metadata": {},
   "source": [
    "Based on an online article, the weather has an impact on mobile data usage. Below are the key findings. \n",
    "\n",
    "1.) \"It has been found that the weather has impact on what people do online — most notably what they do via social media.\"\n",
    "\n",
    "2.) \"Bad weather always makes the interaction increase – completely independent from the season.\"\n",
    "\n",
    "3.) \"Fans react, on average, 42% more often when the sun isn’t shining.\"\n",
    "\n",
    "4.) \"On rainy summer weekends, posts receive nearly twice as many reactions: interaction on posts increases by 90%.\"\n",
    "\n",
    "5.) \"Even in spring, autumn and winter. a clear difference between sunny and rainy days is noticeable: there are 39% more reactions on average when it’s rainy.\"\n",
    "\n",
    "Source: https://martech.org/why-social-media-marketers-need-to-follow-the-weather/\n",
    "\n",
    "Since people react significantly more on days with rain, it could be because people have to stay inside due to the rain and it leads to them using their phone. \n",
    "\n",
    "As a data scientist at Accenture, I've been entrusted with a research project commissioned by MyRepublic, a digital telco operator. The objective is to investigate whether Singaporeans exhibit an elevated consumption of mobile data during quarters marked by an increased frequency of rainy days.\n",
    "\n",
    "Once we've discerned this trend, the pivotal question arises: How can a company leverage this insight to strategically expand its market presence within the mobile services industry?"
   ]
  },
  {
   "cell_type": "markdown",
   "metadata": {},
   "source": [
    "Rainfall affects daily activities of Singapore population, hence it is worth analysing rainfall data to identify trends "
   ]
  },
  {
   "cell_type": "markdown",
   "metadata": {},
   "source": [
    "### Outside Research"
   ]
  },
  {
   "cell_type": "markdown",
   "metadata": {},
   "source": [
    "Based on your problem statement and your chosen datasets, spend some time doing outside research on how climate change is affecting different industries or additional information that might be relevant. Summarize your findings below. If you bring in any outside tables or charts, make sure you are explicit about having borrowed them. If you quote any text, make sure that it renders as being quoted. **Make sure that you cite your sources.**"
   ]
  },
  {
   "cell_type": "markdown",
   "metadata": {},
   "source": [
    "Based on an online article, the weather has an impact on mobile data usage. Below are the key findings. \n",
    "\n",
    "1.) \"It has been found that the weather has impact on what people do online — most notably what they do via social media.\"\n",
    "\n",
    "2.) \"Bad weather always makes the interaction increase – completely independent from the season.\"\n",
    "\n",
    "3.) \"Fans react, on average, 42% more often when the sun isn’t shining.\"\n",
    "\n",
    "4.) \"On rainy summer weekends, posts receive nearly twice as many reactions: interaction on posts increases by 90%.\"\n",
    "\n",
    "5.) \"Even in spring, autumn and winter. a clear difference between sunny and rainy days is noticeable: there are 39% more reactions on average when it’s rainy.\"\n",
    "\n",
    "Source: https://martech.org/why-social-media-marketers-need-to-follow-the-weather/"
   ]
  },
  {
   "cell_type": "markdown",
   "metadata": {},
   "source": []
  },
  {
   "cell_type": "markdown",
   "metadata": {},
   "source": [
    "### Coding Challenges\n",
    "\n",
    "1. Manually calculate mean:\n",
    "\n",
    "    Write a function that takes in values and returns the mean of the values. Create a list of numbers that you test on your function to check to make sure your function works!\n",
    "    \n",
    "    *Note*: Do not use any mean methods built-in to any Python libraries to do this! This should be done without importing any additional libraries."
   ]
  },
  {
   "cell_type": "code",
   "execution_count": 1,
   "metadata": {},
   "outputs": [
    {
     "name": "stdout",
     "output_type": "stream",
     "text": [
      "3.00\n"
     ]
    }
   ],
   "source": [
    "# Code:\n",
    "def calculate_mean(numbers):\n",
    "    total = 0\n",
    "    for i in numbers:           # Iterate over the list elements to add up all the elements\n",
    "        total += i\n",
    "    avg = total / len(numbers)  # Calculate the mean by dividing the total sum by the number of elements\n",
    "    return avg\n",
    "\n",
    "my_list = [1, 2, 3, 4, 5]\n",
    "average = calculate_mean(my_list)\n",
    "print(\"{:.2f}\".format(average)) # This prints the mean in 2 decimal places format."
   ]
  },
  {
   "cell_type": "markdown",
   "metadata": {},
   "source": [
    "2. Manually calculate standard deviation:\n",
    "\n",
    "    The formula for standard deviation is below:\n",
    "\n",
    "    $$\\sigma = \\sqrt{\\frac{1}{n}\\sum_{i=1}^n(x_i - \\mu)^2}$$\n",
    "\n",
    "    Where $x_i$ represents each value in the dataset, $\\mu$ represents the mean of all values in the dataset and $n$ represents the number of values in the dataset.\n",
    "\n",
    "    Write a function that takes in values and returns the standard deviation of the values using the formula above. Hint: use the function you wrote above to calculate the mean! Use the list of numbers you created above to test on your function.\n",
    "    \n",
    "    *Note*: Do not use any standard deviation methods built-in to any Python libraries to do this! This should be done without importing any additional libraries."
   ]
  },
  {
   "cell_type": "code",
   "execution_count": 2,
   "metadata": {},
   "outputs": [
    {
     "name": "stdout",
     "output_type": "stream",
     "text": [
      "1.41\n"
     ]
    }
   ],
   "source": [
    "# Code:\n",
    "def calculate_sd(numbers):\n",
    "    total = 0\n",
    "    average = calculate_mean(numbers)    # This calculates the average. \n",
    "    for i in numbers:                    # This iterates over all the elements in the list\n",
    "        total = total + (i - average)**2 # This is the summation of all the difference between the element and the average.\n",
    "    total = (total / len(numbers))**0.5  # This is the square root of the sum. \n",
    "    return total\n",
    "\n",
    "stand_dev = calculate_sd(my_list)\n",
    "print(\"{:.2f}\".format(stand_dev))        # This prints the standard deviation in 2 decimal places format."
   ]
  },
  {
   "cell_type": "markdown",
   "metadata": {},
   "source": [
    "--- \n",
    "# Part 2\n",
    "\n",
    "Part 2 requires knowledge of Pandas, EDA, data cleaning, and data visualization.\n",
    "\n",
    "---"
   ]
  },
  {
   "cell_type": "markdown",
   "metadata": {},
   "source": [
    "*All libraries used should be added here*"
   ]
  },
  {
   "cell_type": "code",
   "execution_count": 3,
   "metadata": {},
   "outputs": [],
   "source": [
    "# Imports:\n",
    "import numpy as np\n",
    "import pandas as pd\n",
    "import matplotlib.pyplot as plt\n",
    "import seaborn as sns"
   ]
  },
  {
   "cell_type": "markdown",
   "metadata": {},
   "source": [
    "## Data Import and Cleaning"
   ]
  },
  {
   "cell_type": "markdown",
   "metadata": {},
   "source": [
    "### Data Import & Cleaning\n",
    "\n",
    "Import all the datasets that you selected for this project and go through the following steps at a minimum. You are welcome to do further cleaning as you feel necessary. Make sure to comment your code to showcase the intent behind the data processing step.\n",
    "1. Display the data: print the first 5 rows of each dataframe to your Jupyter notebook.\n",
    "2. Check for missing values and datatype.\n",
    "3. Check for any obvious issues with the observations.\n",
    "4. Fix any errors you identified in steps 2-3.\n",
    "6. Fix any incorrect data types found in step 5.\n",
    "    - Fix any individual values preventing other columns from being the appropriate type.\n",
    "    - If the month column data is better analyzed as month and year, create new columns for the same\n",
    "7. Rename Columns.\n",
    "    - Column names should be all lowercase.\n",
    "    - Column names should not contain spaces (underscores will suffice--this allows for using the `df.column_name` method to access columns in addition to `df['column_name']`).\n",
    "    - Column names should be unique and informative.\n",
    "8. Drop unnecessary rows (if needed).\n",
    "9. Merge dataframes that can be merged.\n",
    "    - Since different climate metrics are in month format, you can merge them into one single dataframe for easier analysis\n",
    "10. Perform any additional cleaning that you feel is necessary.\n",
    "11. Save your cleaned and merged dataframes as csv files."
   ]
  },
  {
   "cell_type": "markdown",
   "metadata": {},
   "source": [
    "# Data import / Null values check\n",
    "1. rainfall_monthly: This holds the data of the number of days it rained in a month. The data is recorded from 1982 to 2022. \n",
    "2. mobile_data_usage_quarterly: This holds the data of the amount of mobile data usage in a quarter. The data is recorded from 2004 to 2019\n",
    "\n",
    "I also print the first 5 rows of each dataframe, check for null values and data type. \n"
   ]
  },
  {
   "cell_type": "code",
   "execution_count": 4,
   "metadata": {},
   "outputs": [
    {
     "data": {
      "text/html": [
       "<div>\n",
       "<style scoped>\n",
       "    .dataframe tbody tr th:only-of-type {\n",
       "        vertical-align: middle;\n",
       "    }\n",
       "\n",
       "    .dataframe tbody tr th {\n",
       "        vertical-align: top;\n",
       "    }\n",
       "\n",
       "    .dataframe thead th {\n",
       "        text-align: right;\n",
       "    }\n",
       "</style>\n",
       "<table border=\"1\" class=\"dataframe\">\n",
       "  <thead>\n",
       "    <tr style=\"text-align: right;\">\n",
       "      <th></th>\n",
       "      <th>month</th>\n",
       "      <th>no_of_rainy_days</th>\n",
       "    </tr>\n",
       "  </thead>\n",
       "  <tbody>\n",
       "    <tr>\n",
       "      <th>0</th>\n",
       "      <td>1982-01</td>\n",
       "      <td>10</td>\n",
       "    </tr>\n",
       "    <tr>\n",
       "      <th>1</th>\n",
       "      <td>1982-02</td>\n",
       "      <td>5</td>\n",
       "    </tr>\n",
       "    <tr>\n",
       "      <th>2</th>\n",
       "      <td>1982-03</td>\n",
       "      <td>11</td>\n",
       "    </tr>\n",
       "    <tr>\n",
       "      <th>3</th>\n",
       "      <td>1982-04</td>\n",
       "      <td>14</td>\n",
       "    </tr>\n",
       "    <tr>\n",
       "      <th>4</th>\n",
       "      <td>1982-05</td>\n",
       "      <td>10</td>\n",
       "    </tr>\n",
       "  </tbody>\n",
       "</table>\n",
       "</div>"
      ],
      "text/plain": [
       "     month  no_of_rainy_days\n",
       "0  1982-01                10\n",
       "1  1982-02                 5\n",
       "2  1982-03                11\n",
       "3  1982-04                14\n",
       "4  1982-05                10"
      ]
     },
     "execution_count": 4,
     "metadata": {},
     "output_type": "execute_result"
    }
   ],
   "source": [
    "# Import the csv files to dataframes \n",
    "rainfall_monthly = pd.read_csv('../Data/rainfall-monthly-number-of-rain-days.csv')\n",
    "mobile_data_usage_quarterly = pd.read_csv('../Data/MobileDataUsage.csv')\n",
    "\n",
    "# Here, I diaplay the first 5 rows of the rainfall data frame\n",
    "rainfall_monthly.head()"
   ]
  },
  {
   "cell_type": "markdown",
   "metadata": {},
   "source": [
    "First 5 rows of the monthly rainfall days data frame"
   ]
  },
  {
   "cell_type": "code",
   "execution_count": 5,
   "metadata": {},
   "outputs": [
    {
     "data": {
      "text/html": [
       "<div>\n",
       "<style scoped>\n",
       "    .dataframe tbody tr th:only-of-type {\n",
       "        vertical-align: middle;\n",
       "    }\n",
       "\n",
       "    .dataframe tbody tr th {\n",
       "        vertical-align: top;\n",
       "    }\n",
       "\n",
       "    .dataframe thead th {\n",
       "        text-align: right;\n",
       "    }\n",
       "</style>\n",
       "<table border=\"1\" class=\"dataframe\">\n",
       "  <thead>\n",
       "    <tr style=\"text-align: right;\">\n",
       "      <th></th>\n",
       "      <th>quarter</th>\n",
       "      <th>volume_of_mobile_data</th>\n",
       "    </tr>\n",
       "  </thead>\n",
       "  <tbody>\n",
       "    <tr>\n",
       "      <th>0</th>\n",
       "      <td>2004-Q3</td>\n",
       "      <td>0.000384</td>\n",
       "    </tr>\n",
       "    <tr>\n",
       "      <th>1</th>\n",
       "      <td>2004-Q4</td>\n",
       "      <td>0.000543</td>\n",
       "    </tr>\n",
       "    <tr>\n",
       "      <th>2</th>\n",
       "      <td>2005-Q1</td>\n",
       "      <td>0.000620</td>\n",
       "    </tr>\n",
       "    <tr>\n",
       "      <th>3</th>\n",
       "      <td>2005-Q2</td>\n",
       "      <td>0.000634</td>\n",
       "    </tr>\n",
       "    <tr>\n",
       "      <th>4</th>\n",
       "      <td>2005-Q3</td>\n",
       "      <td>0.000718</td>\n",
       "    </tr>\n",
       "  </tbody>\n",
       "</table>\n",
       "</div>"
      ],
      "text/plain": [
       "   quarter  volume_of_mobile_data\n",
       "0  2004-Q3               0.000384\n",
       "1  2004-Q4               0.000543\n",
       "2  2005-Q1               0.000620\n",
       "3  2005-Q2               0.000634\n",
       "4  2005-Q3               0.000718"
      ]
     },
     "execution_count": 5,
     "metadata": {},
     "output_type": "execute_result"
    }
   ],
   "source": [
    "# Here, I diaplay the first 5 rows of the quarterly mobile data usage data frame\n",
    "mobile_data_usage_quarterly.head()"
   ]
  },
  {
   "cell_type": "markdown",
   "metadata": {},
   "source": [
    "First 5 rows of the quarterly mobile data usage data frame"
   ]
  },
  {
   "cell_type": "code",
   "execution_count": 6,
   "metadata": {},
   "outputs": [
    {
     "data": {
      "text/plain": [
       "month               0\n",
       "no_of_rainy_days    0\n",
       "dtype: int64"
      ]
     },
     "execution_count": 6,
     "metadata": {},
     "output_type": "execute_result"
    }
   ],
   "source": [
    "# Here I check for any missing values and data type for the rainfall data frame\n",
    "rainfall_monthly.isna().sum()"
   ]
  },
  {
   "cell_type": "markdown",
   "metadata": {},
   "source": [
    "Monthly rainfall data check for null values"
   ]
  },
  {
   "cell_type": "code",
   "execution_count": 7,
   "metadata": {},
   "outputs": [
    {
     "data": {
      "text/plain": [
       "quarter                  0\n",
       "volume_of_mobile_data    0\n",
       "dtype: int64"
      ]
     },
     "execution_count": 7,
     "metadata": {},
     "output_type": "execute_result"
    }
   ],
   "source": [
    "# Here I check for any missing values and data type for the quarterly mobile data usage data frame\n",
    "mobile_data_usage_quarterly.isna().sum()"
   ]
  },
  {
   "cell_type": "markdown",
   "metadata": {},
   "source": [
    "Quarterly mobile data usage data check for null values"
   ]
  },
  {
   "cell_type": "markdown",
   "metadata": {},
   "source": [
    "# Data cleaning (Rainfall)\n",
    "\n",
    "Now that I got the rainfall dataframe, I can convert the month column to have a year and quarter column. Then I'll add up the number of rainy days for each quarter. "
   ]
  },
  {
   "cell_type": "code",
   "execution_count": 8,
   "metadata": {
    "scrolled": true
   },
   "outputs": [
    {
     "data": {
      "text/html": [
       "<div>\n",
       "<style scoped>\n",
       "    .dataframe tbody tr th:only-of-type {\n",
       "        vertical-align: middle;\n",
       "    }\n",
       "\n",
       "    .dataframe tbody tr th {\n",
       "        vertical-align: top;\n",
       "    }\n",
       "\n",
       "    .dataframe thead th {\n",
       "        text-align: right;\n",
       "    }\n",
       "</style>\n",
       "<table border=\"1\" class=\"dataframe\">\n",
       "  <thead>\n",
       "    <tr style=\"text-align: right;\">\n",
       "      <th></th>\n",
       "      <th></th>\n",
       "      <th>no_of_rainy_days</th>\n",
       "    </tr>\n",
       "    <tr>\n",
       "      <th>year</th>\n",
       "      <th>quarter</th>\n",
       "      <th></th>\n",
       "    </tr>\n",
       "  </thead>\n",
       "  <tbody>\n",
       "    <tr>\n",
       "      <th rowspan=\"4\" valign=\"top\">1982</th>\n",
       "      <th>1</th>\n",
       "      <td>26</td>\n",
       "    </tr>\n",
       "    <tr>\n",
       "      <th>2</th>\n",
       "      <td>32</td>\n",
       "    </tr>\n",
       "    <tr>\n",
       "      <th>3</th>\n",
       "      <td>28</td>\n",
       "    </tr>\n",
       "    <tr>\n",
       "      <th>4</th>\n",
       "      <td>44</td>\n",
       "    </tr>\n",
       "    <tr>\n",
       "      <th>1983</th>\n",
       "      <th>1</th>\n",
       "      <td>22</td>\n",
       "    </tr>\n",
       "  </tbody>\n",
       "</table>\n",
       "</div>"
      ],
      "text/plain": [
       "              no_of_rainy_days\n",
       "year quarter                  \n",
       "1982 1                      26\n",
       "     2                      32\n",
       "     3                      28\n",
       "     4                      44\n",
       "1983 1                      22"
      ]
     },
     "execution_count": 8,
     "metadata": {},
     "output_type": "execute_result"
    }
   ],
   "source": [
    "# Convert 'month' column from the rainfall dataframe to datetime format\n",
    "rainfall_monthly['month'] = pd.to_datetime(rainfall_monthly['month'])\n",
    "\n",
    "# Extract quarter and year information and create 2 new columns 'quarter' and 'year'\n",
    "rainfall_monthly['quarter'] = rainfall_monthly['month'].dt.quarter\n",
    "rainfall_monthly['year'] = rainfall_monthly['month'].dt.year\n",
    "\n",
    "# Group rainfall data by year and quarter. Sum up the number of riany days too. \n",
    "rainfall_quarterly = pd.DataFrame(rainfall_monthly.groupby(['year', 'quarter'])['no_of_rainy_days'].sum())\n",
    "\n",
    "# Display the DataFrame to check\n",
    "rainfall_quarterly.head()"
   ]
  },
  {
   "cell_type": "markdown",
   "metadata": {},
   "source": [
    "The dataframe above shows the number of rainy days grouped by year and quarter."
   ]
  },
  {
   "cell_type": "markdown",
   "metadata": {},
   "source": [
    "# Data cleaning (Rainfall)\n",
    "\n",
    "Here, I convert the rainy days column \"no_of_rainy_days\" to become a proportion of the year's rainy days instead of absolute numbers."
   ]
  },
  {
   "cell_type": "code",
   "execution_count": 9,
   "metadata": {
    "scrolled": true
   },
   "outputs": [
    {
     "data": {
      "text/html": [
       "<div>\n",
       "<style scoped>\n",
       "    .dataframe tbody tr th:only-of-type {\n",
       "        vertical-align: middle;\n",
       "    }\n",
       "\n",
       "    .dataframe tbody tr th {\n",
       "        vertical-align: top;\n",
       "    }\n",
       "\n",
       "    .dataframe thead th {\n",
       "        text-align: right;\n",
       "    }\n",
       "</style>\n",
       "<table border=\"1\" class=\"dataframe\">\n",
       "  <thead>\n",
       "    <tr style=\"text-align: right;\">\n",
       "      <th></th>\n",
       "      <th></th>\n",
       "      <th>no_of_rainy_days</th>\n",
       "      <th>relative_no_of_rainy_days</th>\n",
       "    </tr>\n",
       "    <tr>\n",
       "      <th>year</th>\n",
       "      <th>quarter</th>\n",
       "      <th></th>\n",
       "      <th></th>\n",
       "    </tr>\n",
       "  </thead>\n",
       "  <tbody>\n",
       "    <tr>\n",
       "      <th rowspan=\"4\" valign=\"top\">1982</th>\n",
       "      <th>1</th>\n",
       "      <td>26</td>\n",
       "      <td>0.200000</td>\n",
       "    </tr>\n",
       "    <tr>\n",
       "      <th>2</th>\n",
       "      <td>32</td>\n",
       "      <td>0.246154</td>\n",
       "    </tr>\n",
       "    <tr>\n",
       "      <th>3</th>\n",
       "      <td>28</td>\n",
       "      <td>0.215385</td>\n",
       "    </tr>\n",
       "    <tr>\n",
       "      <th>4</th>\n",
       "      <td>44</td>\n",
       "      <td>0.338462</td>\n",
       "    </tr>\n",
       "    <tr>\n",
       "      <th>1983</th>\n",
       "      <th>1</th>\n",
       "      <td>22</td>\n",
       "      <td>0.151724</td>\n",
       "    </tr>\n",
       "  </tbody>\n",
       "</table>\n",
       "</div>"
      ],
      "text/plain": [
       "              no_of_rainy_days  relative_no_of_rainy_days\n",
       "year quarter                                             \n",
       "1982 1                      26                   0.200000\n",
       "     2                      32                   0.246154\n",
       "     3                      28                   0.215385\n",
       "     4                      44                   0.338462\n",
       "1983 1                      22                   0.151724"
      ]
     },
     "execution_count": 9,
     "metadata": {},
     "output_type": "execute_result"
    }
   ],
   "source": [
    "# Convert the rainy days column \"no_of_rainy_days\" to become a proportion of the year's rainy days instead of absolute numbers.\n",
    "# Reset the index to perform calculations\n",
    "rainfall_quarterly_reset = rainfall_quarterly.reset_index()\n",
    "\n",
    "# Calculate the sum of 'no_of_rainy_days' for each year\n",
    "yearly_totals = rainfall_quarterly_reset.groupby('year')['no_of_rainy_days'].sum()\n",
    "\n",
    "# Convert 'no_of_rainy_days' to proportions within each year\n",
    "rainfall_quarterly_reset['relative_no_of_rainy_days'] = rainfall_quarterly_reset['no_of_rainy_days'] / rainfall_quarterly_reset['year'].map(yearly_totals)\n",
    "\n",
    "# Set the index back\n",
    "rainfall_quarterly = rainfall_quarterly_reset.set_index(['year', 'quarter'])\n",
    "\n",
    "# Print the modified DataFrame with proportions\n",
    "rainfall_quarterly.head()"
   ]
  },
  {
   "cell_type": "markdown",
   "metadata": {},
   "source": [
    "The dataframe above shows the updated rainfall_quartely dataframe with the new column: relative_no_of_rainy_days. <br>\n",
    "Relative number of rainy days compares the number of rainy days of the quarter to the number of rainy days in a year. \n",
    "\n",
    "$$\n",
    "\\text {Relative number of rainy days} = \\frac {\\text{Number of rainy days in a quarter}} {\\text{Number of rainy days in a year}}\n",
    "$$"
   ]
  },
  {
   "cell_type": "markdown",
   "metadata": {},
   "source": [
    "# Data cleaning (Mobile data usage)\n",
    "\n",
    "For the mobie data usage dataframe, first I'll convert the quarter column to year and quarter column. "
   ]
  },
  {
   "cell_type": "code",
   "execution_count": 10,
   "metadata": {
    "scrolled": false
   },
   "outputs": [
    {
     "data": {
      "text/html": [
       "<div>\n",
       "<style scoped>\n",
       "    .dataframe tbody tr th:only-of-type {\n",
       "        vertical-align: middle;\n",
       "    }\n",
       "\n",
       "    .dataframe tbody tr th {\n",
       "        vertical-align: top;\n",
       "    }\n",
       "\n",
       "    .dataframe thead th {\n",
       "        text-align: right;\n",
       "    }\n",
       "</style>\n",
       "<table border=\"1\" class=\"dataframe\">\n",
       "  <thead>\n",
       "    <tr style=\"text-align: right;\">\n",
       "      <th></th>\n",
       "      <th>quarter</th>\n",
       "      <th>volume_of_mobile_data</th>\n",
       "      <th>year</th>\n",
       "    </tr>\n",
       "  </thead>\n",
       "  <tbody>\n",
       "    <tr>\n",
       "      <th>0</th>\n",
       "      <td>3</td>\n",
       "      <td>0.000384</td>\n",
       "      <td>2004</td>\n",
       "    </tr>\n",
       "    <tr>\n",
       "      <th>1</th>\n",
       "      <td>4</td>\n",
       "      <td>0.000543</td>\n",
       "      <td>2004</td>\n",
       "    </tr>\n",
       "    <tr>\n",
       "      <th>2</th>\n",
       "      <td>1</td>\n",
       "      <td>0.000620</td>\n",
       "      <td>2005</td>\n",
       "    </tr>\n",
       "    <tr>\n",
       "      <th>3</th>\n",
       "      <td>2</td>\n",
       "      <td>0.000634</td>\n",
       "      <td>2005</td>\n",
       "    </tr>\n",
       "    <tr>\n",
       "      <th>4</th>\n",
       "      <td>3</td>\n",
       "      <td>0.000718</td>\n",
       "      <td>2005</td>\n",
       "    </tr>\n",
       "  </tbody>\n",
       "</table>\n",
       "</div>"
      ],
      "text/plain": [
       "  quarter  volume_of_mobile_data  year\n",
       "0       3               0.000384  2004\n",
       "1       4               0.000543  2004\n",
       "2       1               0.000620  2005\n",
       "3       2               0.000634  2005\n",
       "4       3               0.000718  2005"
      ]
     },
     "execution_count": 10,
     "metadata": {},
     "output_type": "execute_result"
    }
   ],
   "source": [
    "# Split 'quarter' column into 'year' and 'quarter' columns\n",
    "split_components = mobile_data_usage_quarterly['quarter'].str.split('-Q', expand=True)\n",
    "\n",
    "# Assign the split components to new columns 'year' and 'quarter'\n",
    "mobile_data_usage_quarterly['year'] = split_components[0]\n",
    "mobile_data_usage_quarterly['quarter'] = split_components[1]\n",
    "mobile_data_usage_quarterly.head()\n",
    "\n",
    "# We cannot run this cell 2 times because once the cell is run, the quarter column is reformatted to a number and we wont be able to split the quarter column again."
   ]
  },
  {
   "cell_type": "markdown",
   "metadata": {},
   "source": [
    "The dataframe above shows the volume of mobile data grouped by year and quarter."
   ]
  },
  {
   "cell_type": "markdown",
   "metadata": {},
   "source": [
    "# Data cleaning (Mobile data usage)\n",
    "\n",
    "Here, I add another column to the mobile data usage dataframe. The new column will hold the relative volume of mobile data. This is to see the mobile data usage trend across the year by quarters. If I use the absolute numbers, I will get an upward trend as mobile data usage increases over the years.\n",
    "\n",
    "\n",
    "Example: If quarter 1 mobile data usage is 50GB and the year's total mobile data usage is 100GB, then the relative volume of mobile data is 0.5) "
   ]
  },
  {
   "cell_type": "code",
   "execution_count": 11,
   "metadata": {},
   "outputs": [
    {
     "data": {
      "text/html": [
       "<div>\n",
       "<style scoped>\n",
       "    .dataframe tbody tr th:only-of-type {\n",
       "        vertical-align: middle;\n",
       "    }\n",
       "\n",
       "    .dataframe tbody tr th {\n",
       "        vertical-align: top;\n",
       "    }\n",
       "\n",
       "    .dataframe thead th {\n",
       "        text-align: right;\n",
       "    }\n",
       "</style>\n",
       "<table border=\"1\" class=\"dataframe\">\n",
       "  <thead>\n",
       "    <tr style=\"text-align: right;\">\n",
       "      <th></th>\n",
       "      <th>year</th>\n",
       "      <th>quarter</th>\n",
       "      <th>volume_of_mobile_data</th>\n",
       "      <th>relative_volume_of_mobile_data</th>\n",
       "    </tr>\n",
       "  </thead>\n",
       "  <tbody>\n",
       "    <tr>\n",
       "      <th>0</th>\n",
       "      <td>2004</td>\n",
       "      <td>3</td>\n",
       "      <td>0.000384</td>\n",
       "      <td>0.414239</td>\n",
       "    </tr>\n",
       "    <tr>\n",
       "      <th>1</th>\n",
       "      <td>2004</td>\n",
       "      <td>4</td>\n",
       "      <td>0.000543</td>\n",
       "      <td>0.585761</td>\n",
       "    </tr>\n",
       "    <tr>\n",
       "      <th>2</th>\n",
       "      <td>2005</td>\n",
       "      <td>1</td>\n",
       "      <td>0.000620</td>\n",
       "      <td>0.223585</td>\n",
       "    </tr>\n",
       "    <tr>\n",
       "      <th>3</th>\n",
       "      <td>2005</td>\n",
       "      <td>2</td>\n",
       "      <td>0.000634</td>\n",
       "      <td>0.228633</td>\n",
       "    </tr>\n",
       "    <tr>\n",
       "      <th>4</th>\n",
       "      <td>2005</td>\n",
       "      <td>3</td>\n",
       "      <td>0.000718</td>\n",
       "      <td>0.258925</td>\n",
       "    </tr>\n",
       "  </tbody>\n",
       "</table>\n",
       "</div>"
      ],
      "text/plain": [
       "   year  quarter  volume_of_mobile_data  relative_volume_of_mobile_data\n",
       "0  2004        3               0.000384                        0.414239\n",
       "1  2004        4               0.000543                        0.585761\n",
       "2  2005        1               0.000620                        0.223585\n",
       "3  2005        2               0.000634                        0.228633\n",
       "4  2005        3               0.000718                        0.258925"
      ]
     },
     "execution_count": 11,
     "metadata": {},
     "output_type": "execute_result"
    }
   ],
   "source": [
    "# Convert the mobile data usage column \"volume_of_mobile_data\" to become a proportion of the year's data instead of absolute numbers.\n",
    "# Calculate the sum of 'volume_of_mobile_data' for each year\n",
    "yearly_totals = mobile_data_usage_quarterly.groupby('year')['volume_of_mobile_data'].sum()\n",
    "\n",
    "# Convert 'volume_of_mobile_data' to proportions within each year\n",
    "mobile_data_usage_quarterly['relative_volume_of_mobile_data'] = mobile_data_usage_quarterly.apply(lambda row: row['volume_of_mobile_data'] / yearly_totals.loc[row['year']], axis=1)\n",
    "\n",
    "# Convert the year and quarter columns to integers\n",
    "mobile_data_usage_quarterly['year'] = mobile_data_usage_quarterly['year'].astype(int)\n",
    "mobile_data_usage_quarterly['quarter'] = mobile_data_usage_quarterly['quarter'].astype(int)\n",
    "\n",
    "# Rearrange the dataframe\n",
    "mobile_data_usage_quarterly = mobile_data_usage_quarterly[['year', 'quarter', 'volume_of_mobile_data', 'relative_volume_of_mobile_data']]\n",
    "\n",
    "# Print the modified dataframe with proportions\n",
    "mobile_data_usage_quarterly.head()"
   ]
  },
  {
   "cell_type": "markdown",
   "metadata": {},
   "source": [
    "The dataframe above shows the updated mobile_data_usage_quarterly dataframe with the new column: relative_volume_of_mobile_data<br>\n",
    "Relative volume of mobile data compares the volume of mobile data of the quarter to the volume of mobile data in a year. \n",
    "\n",
    "$$\n",
    "\\text {Relative volume of mobile data} = \\frac {\\text{Volume of mobile data in a quarter}} {\\text{Volume of mobile data in a year}}\n",
    "$$"
   ]
  },
  {
   "cell_type": "markdown",
   "metadata": {},
   "source": [
    "# Data merging\n",
    "\n",
    "Once both dataframes are of a similar format having the year and quarter column, I can merge them into 1 dataframe for all the years which appear for both the dataframes. "
   ]
  },
  {
   "cell_type": "code",
   "execution_count": 12,
   "metadata": {
    "scrolled": true
   },
   "outputs": [
    {
     "data": {
      "text/html": [
       "<div>\n",
       "<style scoped>\n",
       "    .dataframe tbody tr th:only-of-type {\n",
       "        vertical-align: middle;\n",
       "    }\n",
       "\n",
       "    .dataframe tbody tr th {\n",
       "        vertical-align: top;\n",
       "    }\n",
       "\n",
       "    .dataframe thead th {\n",
       "        text-align: right;\n",
       "    }\n",
       "</style>\n",
       "<table border=\"1\" class=\"dataframe\">\n",
       "  <thead>\n",
       "    <tr style=\"text-align: right;\">\n",
       "      <th></th>\n",
       "      <th>year</th>\n",
       "      <th>quarter</th>\n",
       "      <th>no_of_rainy_days</th>\n",
       "      <th>relative_no_of_rainy_days</th>\n",
       "      <th>volume_of_mobile_data</th>\n",
       "      <th>relative_volume_of_mobile_data</th>\n",
       "    </tr>\n",
       "  </thead>\n",
       "  <tbody>\n",
       "    <tr>\n",
       "      <th>0</th>\n",
       "      <td>2004</td>\n",
       "      <td>3</td>\n",
       "      <td>42</td>\n",
       "      <td>0.285714</td>\n",
       "      <td>0.000384</td>\n",
       "      <td>0.414239</td>\n",
       "    </tr>\n",
       "    <tr>\n",
       "      <th>1</th>\n",
       "      <td>2004</td>\n",
       "      <td>4</td>\n",
       "      <td>42</td>\n",
       "      <td>0.285714</td>\n",
       "      <td>0.000543</td>\n",
       "      <td>0.585761</td>\n",
       "    </tr>\n",
       "    <tr>\n",
       "      <th>2</th>\n",
       "      <td>2005</td>\n",
       "      <td>1</td>\n",
       "      <td>23</td>\n",
       "      <td>0.131429</td>\n",
       "      <td>0.000620</td>\n",
       "      <td>0.223585</td>\n",
       "    </tr>\n",
       "    <tr>\n",
       "      <th>3</th>\n",
       "      <td>2005</td>\n",
       "      <td>2</td>\n",
       "      <td>45</td>\n",
       "      <td>0.257143</td>\n",
       "      <td>0.000634</td>\n",
       "      <td>0.228633</td>\n",
       "    </tr>\n",
       "    <tr>\n",
       "      <th>4</th>\n",
       "      <td>2005</td>\n",
       "      <td>3</td>\n",
       "      <td>46</td>\n",
       "      <td>0.262857</td>\n",
       "      <td>0.000718</td>\n",
       "      <td>0.258925</td>\n",
       "    </tr>\n",
       "  </tbody>\n",
       "</table>\n",
       "</div>"
      ],
      "text/plain": [
       "   year  quarter  no_of_rainy_days  relative_no_of_rainy_days  \\\n",
       "0  2004        3                42                   0.285714   \n",
       "1  2004        4                42                   0.285714   \n",
       "2  2005        1                23                   0.131429   \n",
       "3  2005        2                45                   0.257143   \n",
       "4  2005        3                46                   0.262857   \n",
       "\n",
       "   volume_of_mobile_data  relative_volume_of_mobile_data  \n",
       "0               0.000384                        0.414239  \n",
       "1               0.000543                        0.585761  \n",
       "2               0.000620                        0.223585  \n",
       "3               0.000634                        0.228633  \n",
       "4               0.000718                        0.258925  "
      ]
     },
     "execution_count": 12,
     "metadata": {},
     "output_type": "execute_result"
    }
   ],
   "source": [
    "# Merge the rainfall dataframe and the mobile dataframe for all the rows that \"intersect\"\n",
    "rainfall_with_mobile_data_df = pd.merge(rainfall_quarterly, mobile_data_usage_quarterly, on=['year','quarter'], how=\"inner\")\n",
    "\n",
    "# Print the merged dataframe\n",
    "rainfall_with_mobile_data_df.head()"
   ]
  },
  {
   "cell_type": "markdown",
   "metadata": {},
   "source": [
    "The dataframe above shows the merged dataframe with all the intersecting rows between the rainfall_quarterly and mobile_data_usage_quarterly dataframe."
   ]
  },
  {
   "cell_type": "markdown",
   "metadata": {},
   "source": [
    "# Data cleaning (Merged dataframe)\n",
    "\n",
    "After looking at the dataframe, I realised that there are some years with incomplete quarters. I decided to drop those rows."
   ]
  },
  {
   "cell_type": "code",
   "execution_count": 13,
   "metadata": {
    "scrolled": false
   },
   "outputs": [
    {
     "data": {
      "text/html": [
       "<div>\n",
       "<style scoped>\n",
       "    .dataframe tbody tr th:only-of-type {\n",
       "        vertical-align: middle;\n",
       "    }\n",
       "\n",
       "    .dataframe tbody tr th {\n",
       "        vertical-align: top;\n",
       "    }\n",
       "\n",
       "    .dataframe thead th {\n",
       "        text-align: right;\n",
       "    }\n",
       "</style>\n",
       "<table border=\"1\" class=\"dataframe\">\n",
       "  <thead>\n",
       "    <tr style=\"text-align: right;\">\n",
       "      <th></th>\n",
       "      <th>year</th>\n",
       "      <th>quarter</th>\n",
       "      <th>no_of_rainy_days</th>\n",
       "      <th>relative_no_of_rainy_days</th>\n",
       "      <th>volume_of_mobile_data</th>\n",
       "      <th>relative_volume_of_mobile_data</th>\n",
       "    </tr>\n",
       "  </thead>\n",
       "  <tbody>\n",
       "    <tr>\n",
       "      <th>2</th>\n",
       "      <td>2005</td>\n",
       "      <td>1</td>\n",
       "      <td>23</td>\n",
       "      <td>0.131429</td>\n",
       "      <td>0.000620</td>\n",
       "      <td>0.223585</td>\n",
       "    </tr>\n",
       "    <tr>\n",
       "      <th>3</th>\n",
       "      <td>2005</td>\n",
       "      <td>2</td>\n",
       "      <td>45</td>\n",
       "      <td>0.257143</td>\n",
       "      <td>0.000634</td>\n",
       "      <td>0.228633</td>\n",
       "    </tr>\n",
       "    <tr>\n",
       "      <th>4</th>\n",
       "      <td>2005</td>\n",
       "      <td>3</td>\n",
       "      <td>46</td>\n",
       "      <td>0.262857</td>\n",
       "      <td>0.000718</td>\n",
       "      <td>0.258925</td>\n",
       "    </tr>\n",
       "    <tr>\n",
       "      <th>5</th>\n",
       "      <td>2005</td>\n",
       "      <td>4</td>\n",
       "      <td>61</td>\n",
       "      <td>0.348571</td>\n",
       "      <td>0.000801</td>\n",
       "      <td>0.288857</td>\n",
       "    </tr>\n",
       "    <tr>\n",
       "      <th>6</th>\n",
       "      <td>2006</td>\n",
       "      <td>1</td>\n",
       "      <td>37</td>\n",
       "      <td>0.212644</td>\n",
       "      <td>0.000890</td>\n",
       "      <td>0.124702</td>\n",
       "    </tr>\n",
       "  </tbody>\n",
       "</table>\n",
       "</div>"
      ],
      "text/plain": [
       "   year  quarter  no_of_rainy_days  relative_no_of_rainy_days  \\\n",
       "2  2005        1                23                   0.131429   \n",
       "3  2005        2                45                   0.257143   \n",
       "4  2005        3                46                   0.262857   \n",
       "5  2005        4                61                   0.348571   \n",
       "6  2006        1                37                   0.212644   \n",
       "\n",
       "   volume_of_mobile_data  relative_volume_of_mobile_data  \n",
       "2               0.000620                        0.223585  \n",
       "3               0.000634                        0.228633  \n",
       "4               0.000718                        0.258925  \n",
       "5               0.000801                        0.288857  \n",
       "6               0.000890                        0.124702  "
      ]
     },
     "execution_count": 13,
     "metadata": {},
     "output_type": "execute_result"
    }
   ],
   "source": [
    "# Drop the rows which dont have all the quarters in a year\n",
    "# Calculate the number of unique quarters for each year\n",
    "unique_quarters_per_year = rainfall_with_mobile_data_df.groupby('year')['quarter'].nunique()\n",
    "\n",
    "# Identify years with missing quarters\n",
    "years_with_missing_quarters = unique_quarters_per_year[unique_quarters_per_year < 4].index\n",
    "\n",
    "# Filter out rows with years that have missing quarters\n",
    "merged_df = rainfall_with_mobile_data_df[~rainfall_with_mobile_data_df['year'].isin(years_with_missing_quarters)]\n",
    "\n",
    "# Display the filtered dataframe\n",
    "merged_df.head()"
   ]
  },
  {
   "cell_type": "markdown",
   "metadata": {},
   "source": [
    "The dataframe above shows the years which have the data for all 4 quarters."
   ]
  },
  {
   "cell_type": "markdown",
   "metadata": {},
   "source": [
    "### Data Dictionary\n",
    "\n",
    "Now that we've fixed our data, and given it appropriate names, let's create a [data dictionary](http://library.ucmerced.edu/node/10249). \n",
    "\n",
    "A data dictionary provides a quick overview of features/variables/columns, alongside data types and descriptions. The more descriptive you can be, the more useful this document is.\n",
    "\n",
    "Example of a Fictional Data Dictionary Entry: \n",
    "\n",
    "|Feature|Type|Dataset|Description|\n",
    "|---|---|---|---|\n",
    "|**county_pop**|*integer*|2010 census|The population of the county (units in thousands, where 2.5 represents 2500 people).| \n",
    "|**per_poverty**|*float*|2010 census|The percent of the county over the age of 18 living below the 200% of official US poverty rate (units percent to two decimal places 98.10 means 98.1%)|\n",
    "\n",
    "[Here's a quick link to a short guide for formatting markdown in Jupyter notebooks](https://jupyter-notebook.readthedocs.io/en/stable/examples/Notebook/Working%20With%20Markdown%20Cells.html).\n",
    "\n",
    "Provided is the skeleton for formatting a markdown table, with columns headers that will help you create a data dictionary to quickly summarize your data, as well as some examples. **This would be a great thing to copy and paste into your custom README for this project.**\n",
    "\n",
    "*Note*: if you are unsure of what a feature is, check the source of the data! This can be found in the README."
   ]
  },
  {
   "cell_type": "markdown",
   "metadata": {},
   "source": [
    "**To-Do:** *Edit the table below to create your own data dictionary for the datasets you chose.*\n",
    "\n",
    "|Feature|Type|Dataset|Description|\n",
    "|---|---|---|---|\n",
    "|total_rainfall|float|rainfall-monthly-total|Total rainfall in mm| \n"
   ]
  },
  {
   "cell_type": "markdown",
   "metadata": {},
   "source": [
    "<div style = \"text-align: left\">\n",
    "\n",
    "|Feature                        | Type   |Dataset   |Description |\n",
    "|:------------------------------|:-------|:---------|:-----------|\n",
    "|year                           |integer |merged_df |Years 2005 to 2018 |\n",
    "|quarter                        |integer |merged_df |The 4 quarters in a year |\n",
    "|no_of_rainy_days               |integer |merged_df |Number of rainy days in a quarter |\n",
    "|volume_of_mobile_data          |float   |merged_df |Volumes of mobile data in a quarter in petabytes |\n",
    "|relative_volume_of_mobile_data |float   |merged_df |Percentage of quarter data usage against the total year's data usage|"
   ]
  },
  {
   "cell_type": "markdown",
   "metadata": {},
   "source": [
    "It seems like there are more rainy days in the last few quarters in a year. I also found that there is more mobile data usage in the last few quarters in a year."
   ]
  },
  {
   "cell_type": "markdown",
   "metadata": {},
   "source": [
    "# Exploratory Data Analysis\n",
    "Complete the following steps to explore your data. You are welcome to do more EDA than the steps outlined here as you feel necessary:\n",
    "\n",
    "1.) Summary Statistics.\n",
    "\n",
    "2.) Use a dictionary comprehension to apply the standard deviation function you create in part 1 to each numeric column in the dataframe. No loops.\n",
    "- Assign the output to variable sd as a dictionary where:\n",
    "    - Each column name is now a key\n",
    "    - That standard deviation of the column is the value\n",
    "    - Example Output : {'rainfall-monthly-total': xxx, 'no_of_rainy_days': xxx, ...}\n",
    "\n",
    "3.) Investigate trends in the data.\n",
    "\n",
    "- Using sorting and/or masking (along with the .head() method to avoid printing our entire dataframe), consider questions relevant to your problem statement. Some examples are provided below (but feel free to change these questions for your specific problem):\n",
    "\n",
    "    - Which month have the highest and lowest total rainfall in 1990, 2000, 2010 and 2020?\n",
    "    - Which year have the highest and lowest total rainfall in the date range of analysis?\n",
    "    - Which month have the highest and lowest number of rainy days in 1990, 2000, 2010 and 2020?\n",
    "    - Which year have the highest and lowest number of rainy days in the date range of analysis?\n",
    "    - Are there any outliers months in the dataset?\n",
    "- **The above 5 questions are compulsory. Feel free to explore other trends based on the datasets that you have choosen for analysis. You should comment on your findings at each step in a markdown cell below your code block.** Make sure you include at least one example of sorting your dataframe by a column, and one example of using boolean filtering (i.e., masking) to select a subset of the dataframe."
   ]
  },
  {
   "cell_type": "markdown",
   "metadata": {},
   "source": [
    "## Summary statistics"
   ]
  },
  {
   "cell_type": "code",
   "execution_count": 14,
   "metadata": {},
   "outputs": [
    {
     "data": {
      "text/html": [
       "<div>\n",
       "<style scoped>\n",
       "    .dataframe tbody tr th:only-of-type {\n",
       "        vertical-align: middle;\n",
       "    }\n",
       "\n",
       "    .dataframe tbody tr th {\n",
       "        vertical-align: top;\n",
       "    }\n",
       "\n",
       "    .dataframe thead th {\n",
       "        text-align: right;\n",
       "    }\n",
       "</style>\n",
       "<table border=\"1\" class=\"dataframe\">\n",
       "  <thead>\n",
       "    <tr style=\"text-align: right;\">\n",
       "      <th></th>\n",
       "      <th>year</th>\n",
       "      <th>quarter</th>\n",
       "      <th>no_of_rainy_days</th>\n",
       "      <th>relative_no_of_rainy_days</th>\n",
       "      <th>volume_of_mobile_data</th>\n",
       "      <th>relative_volume_of_mobile_data</th>\n",
       "    </tr>\n",
       "  </thead>\n",
       "  <tbody>\n",
       "    <tr>\n",
       "      <th>count</th>\n",
       "      <td>56.00000</td>\n",
       "      <td>56.000000</td>\n",
       "      <td>56.000000</td>\n",
       "      <td>56.000000</td>\n",
       "      <td>56.000000</td>\n",
       "      <td>56.000000</td>\n",
       "    </tr>\n",
       "    <tr>\n",
       "      <th>mean</th>\n",
       "      <td>2011.50000</td>\n",
       "      <td>2.500000</td>\n",
       "      <td>44.696429</td>\n",
       "      <td>0.250000</td>\n",
       "      <td>6.074406</td>\n",
       "      <td>0.250000</td>\n",
       "    </tr>\n",
       "    <tr>\n",
       "      <th>std</th>\n",
       "      <td>4.06761</td>\n",
       "      <td>1.128152</td>\n",
       "      <td>11.063321</td>\n",
       "      <td>0.057502</td>\n",
       "      <td>5.901592</td>\n",
       "      <td>0.071658</td>\n",
       "    </tr>\n",
       "    <tr>\n",
       "      <th>min</th>\n",
       "      <td>2005.00000</td>\n",
       "      <td>1.000000</td>\n",
       "      <td>12.000000</td>\n",
       "      <td>0.078947</td>\n",
       "      <td>0.000620</td>\n",
       "      <td>0.064090</td>\n",
       "    </tr>\n",
       "    <tr>\n",
       "      <th>25%</th>\n",
       "      <td>2008.00000</td>\n",
       "      <td>1.750000</td>\n",
       "      <td>39.000000</td>\n",
       "      <td>0.221638</td>\n",
       "      <td>0.391966</td>\n",
       "      <td>0.228302</td>\n",
       "    </tr>\n",
       "    <tr>\n",
       "      <th>50%</th>\n",
       "      <td>2011.50000</td>\n",
       "      <td>2.500000</td>\n",
       "      <td>46.000000</td>\n",
       "      <td>0.250654</td>\n",
       "      <td>4.378713</td>\n",
       "      <td>0.248115</td>\n",
       "    </tr>\n",
       "    <tr>\n",
       "      <th>75%</th>\n",
       "      <td>2015.00000</td>\n",
       "      <td>3.250000</td>\n",
       "      <td>50.250000</td>\n",
       "      <td>0.290139</td>\n",
       "      <td>10.159369</td>\n",
       "      <td>0.271322</td>\n",
       "    </tr>\n",
       "    <tr>\n",
       "      <th>max</th>\n",
       "      <td>2018.00000</td>\n",
       "      <td>4.000000</td>\n",
       "      <td>65.000000</td>\n",
       "      <td>0.348571</td>\n",
       "      <td>20.439211</td>\n",
       "      <td>0.511978</td>\n",
       "    </tr>\n",
       "  </tbody>\n",
       "</table>\n",
       "</div>"
      ],
      "text/plain": [
       "             year    quarter  no_of_rainy_days  relative_no_of_rainy_days  \\\n",
       "count    56.00000  56.000000         56.000000                  56.000000   \n",
       "mean   2011.50000   2.500000         44.696429                   0.250000   \n",
       "std       4.06761   1.128152         11.063321                   0.057502   \n",
       "min    2005.00000   1.000000         12.000000                   0.078947   \n",
       "25%    2008.00000   1.750000         39.000000                   0.221638   \n",
       "50%    2011.50000   2.500000         46.000000                   0.250654   \n",
       "75%    2015.00000   3.250000         50.250000                   0.290139   \n",
       "max    2018.00000   4.000000         65.000000                   0.348571   \n",
       "\n",
       "       volume_of_mobile_data  relative_volume_of_mobile_data  \n",
       "count              56.000000                       56.000000  \n",
       "mean                6.074406                        0.250000  \n",
       "std                 5.901592                        0.071658  \n",
       "min                 0.000620                        0.064090  \n",
       "25%                 0.391966                        0.228302  \n",
       "50%                 4.378713                        0.248115  \n",
       "75%                10.159369                        0.271322  \n",
       "max                20.439211                        0.511978  "
      ]
     },
     "execution_count": 14,
     "metadata": {},
     "output_type": "execute_result"
    }
   ],
   "source": [
    "# Summary statistics\n",
    "merged_df.describe()"
   ]
  },
  {
   "cell_type": "markdown",
   "metadata": {},
   "source": [
    "## Applyting my standard deviation function to all numeric columns"
   ]
  },
  {
   "cell_type": "code",
   "execution_count": 15,
   "metadata": {},
   "outputs": [
    {
     "name": "stdout",
     "output_type": "stream",
     "text": [
      "The standard deviation for each column\n",
      "year                               4.031129\n",
      "quarter                            1.118034\n",
      "no_of_rainy_days                  10.964097\n",
      "relative_no_of_rainy_days          0.056986\n",
      "volume_of_mobile_data              5.848662\n",
      "relative_volume_of_mobile_data     0.071016\n",
      "dtype: float64\n"
     ]
    }
   ],
   "source": [
    "# Apply the calculate_sd function to each column using apply\n",
    "sd = merged_df.apply(calculate_sd)\n",
    "\n",
    "# Print the standard deviation for each column\n",
    "print(\"The standard deviation for each column\")\n",
    "print(sd)"
   ]
  },
  {
   "cell_type": "markdown",
   "metadata": {},
   "source": [
    "## Which month have the highest and lowest total rainfall in 1990, 2000, 2010 and 2020? "
   ]
  },
  {
   "cell_type": "code",
   "execution_count": 16,
   "metadata": {},
   "outputs": [
    {
     "data": {
      "text/html": [
       "<div>\n",
       "<style scoped>\n",
       "    .dataframe tbody tr th:only-of-type {\n",
       "        vertical-align: middle;\n",
       "    }\n",
       "\n",
       "    .dataframe tbody tr th {\n",
       "        vertical-align: top;\n",
       "    }\n",
       "\n",
       "    .dataframe thead th {\n",
       "        text-align: right;\n",
       "    }\n",
       "</style>\n",
       "<table border=\"1\" class=\"dataframe\">\n",
       "  <thead>\n",
       "    <tr style=\"text-align: right;\">\n",
       "      <th></th>\n",
       "      <th>month</th>\n",
       "      <th>total_rainfall</th>\n",
       "    </tr>\n",
       "  </thead>\n",
       "  <tbody>\n",
       "    <tr>\n",
       "      <th>0</th>\n",
       "      <td>1982-01</td>\n",
       "      <td>107.1</td>\n",
       "    </tr>\n",
       "    <tr>\n",
       "      <th>1</th>\n",
       "      <td>1982-02</td>\n",
       "      <td>27.8</td>\n",
       "    </tr>\n",
       "    <tr>\n",
       "      <th>2</th>\n",
       "      <td>1982-03</td>\n",
       "      <td>160.8</td>\n",
       "    </tr>\n",
       "    <tr>\n",
       "      <th>3</th>\n",
       "      <td>1982-04</td>\n",
       "      <td>157.0</td>\n",
       "    </tr>\n",
       "    <tr>\n",
       "      <th>4</th>\n",
       "      <td>1982-05</td>\n",
       "      <td>102.2</td>\n",
       "    </tr>\n",
       "  </tbody>\n",
       "</table>\n",
       "</div>"
      ],
      "text/plain": [
       "     month  total_rainfall\n",
       "0  1982-01           107.1\n",
       "1  1982-02            27.8\n",
       "2  1982-03           160.8\n",
       "3  1982-04           157.0\n",
       "4  1982-05           102.2"
      ]
     },
     "execution_count": 16,
     "metadata": {},
     "output_type": "execute_result"
    }
   ],
   "source": [
    "# First we need to import the data for the amount of rainfall \n",
    "rainfall_monthly_total = pd.read_csv('../Data/rainfall-monthly-total.csv')\n",
    "\n",
    "# Display the first 5 rows \n",
    "rainfall_monthly_total.head()"
   ]
  },
  {
   "cell_type": "code",
   "execution_count": 17,
   "metadata": {},
   "outputs": [
    {
     "data": {
      "text/html": [
       "<div>\n",
       "<style scoped>\n",
       "    .dataframe tbody tr th:only-of-type {\n",
       "        vertical-align: middle;\n",
       "    }\n",
       "\n",
       "    .dataframe tbody tr th {\n",
       "        vertical-align: top;\n",
       "    }\n",
       "\n",
       "    .dataframe thead th {\n",
       "        text-align: right;\n",
       "    }\n",
       "</style>\n",
       "<table border=\"1\" class=\"dataframe\">\n",
       "  <thead>\n",
       "    <tr style=\"text-align: right;\">\n",
       "      <th></th>\n",
       "      <th>month</th>\n",
       "      <th>total_rainfall</th>\n",
       "      <th>months</th>\n",
       "      <th>year</th>\n",
       "    </tr>\n",
       "  </thead>\n",
       "  <tbody>\n",
       "    <tr>\n",
       "      <th>0</th>\n",
       "      <td>1982-01-01</td>\n",
       "      <td>107.1</td>\n",
       "      <td>1</td>\n",
       "      <td>1982</td>\n",
       "    </tr>\n",
       "    <tr>\n",
       "      <th>1</th>\n",
       "      <td>1982-02-01</td>\n",
       "      <td>27.8</td>\n",
       "      <td>2</td>\n",
       "      <td>1982</td>\n",
       "    </tr>\n",
       "    <tr>\n",
       "      <th>2</th>\n",
       "      <td>1982-03-01</td>\n",
       "      <td>160.8</td>\n",
       "      <td>3</td>\n",
       "      <td>1982</td>\n",
       "    </tr>\n",
       "    <tr>\n",
       "      <th>3</th>\n",
       "      <td>1982-04-01</td>\n",
       "      <td>157.0</td>\n",
       "      <td>4</td>\n",
       "      <td>1982</td>\n",
       "    </tr>\n",
       "    <tr>\n",
       "      <th>4</th>\n",
       "      <td>1982-05-01</td>\n",
       "      <td>102.2</td>\n",
       "      <td>5</td>\n",
       "      <td>1982</td>\n",
       "    </tr>\n",
       "  </tbody>\n",
       "</table>\n",
       "</div>"
      ],
      "text/plain": [
       "       month  total_rainfall  months  year\n",
       "0 1982-01-01           107.1       1  1982\n",
       "1 1982-02-01            27.8       2  1982\n",
       "2 1982-03-01           160.8       3  1982\n",
       "3 1982-04-01           157.0       4  1982\n",
       "4 1982-05-01           102.2       5  1982"
      ]
     },
     "execution_count": 17,
     "metadata": {},
     "output_type": "execute_result"
    }
   ],
   "source": [
    "# Then convert the 'month' column from the rainfall dataframe to datetime format\n",
    "rainfall_monthly_total['month'] = pd.to_datetime(rainfall_monthly_total['month'])\n",
    "\n",
    "# Extract quarter and year information and create 2 new columns 'month' and 'year'\n",
    "rainfall_monthly_total['months'] = rainfall_monthly_total['month'].dt.month\n",
    "rainfall_monthly_total['year'] = rainfall_monthly_total['month'].dt.year\n",
    "\n",
    "# Display the DataFrame to check\n",
    "rainfall_monthly_total.head()"
   ]
  },
  {
   "cell_type": "code",
   "execution_count": 18,
   "metadata": {},
   "outputs": [
    {
     "name": "stdout",
     "output_type": "stream",
     "text": [
      "\n",
      "Analysis for the year 1990:\n",
      "The month with the lowest total rainfall is month 2 with 24.1 millimetres.\n",
      "The month with the highest total rainfall is month 9 with 204.5 millimetres.\n",
      "\n",
      "Analysis for the year 2000:\n",
      "The month with the lowest total rainfall is month 9 with 81.1 millimetres.\n",
      "The month with the highest total rainfall is month 11 with 385.7 millimetres.\n",
      "\n",
      "Analysis for the year 2010:\n",
      "The month with the lowest total rainfall is month 2 with 6.3 millimetres.\n",
      "The month with the highest total rainfall is month 7 with 298.5 millimetres.\n",
      "\n",
      "Analysis for the year 2020:\n",
      "The month with the lowest total rainfall is month 2 with 65.0 millimetres.\n",
      "The month with the highest total rainfall is month 5 with 255.6 millimetres.\n"
     ]
    }
   ],
   "source": [
    "# Years to analyze\n",
    "years_to_analyze = [1990, 2000, 2010, 2020]\n",
    "\n",
    "for target_year in years_to_analyze:\n",
    "    # Filter the DataFrame for the specified year\n",
    "    filtered_df = rainfall_monthly_total[rainfall_monthly_total['year'] == target_year]\n",
    "\n",
    "    # Find the index (month) with the highest and lowest total_rainfall for the specified year\n",
    "    max_rainfall_month = filtered_df['total_rainfall'].idxmax()\n",
    "    min_rainfall_month = filtered_df['total_rainfall'].idxmin()\n",
    "\n",
    "    # Get the corresponding row (month) with the highest and lowest total_rainfall\n",
    "    maximum = filtered_df.loc[max_rainfall_month]\n",
    "    minimum = filtered_df.loc[min_rainfall_month]\n",
    "\n",
    "    # Print the result for the current year\n",
    "    print(f'\\nAnalysis for the year {target_year}:')\n",
    "    print(f'The month with the lowest total rainfall is month {minimum[\"months\"]} with {minimum[\"total_rainfall\"]} millimetres.')\n",
    "    print(f'The month with the highest total rainfall is month {maximum[\"months\"]} with {maximum[\"total_rainfall\"]} millimetres.')"
   ]
  },
  {
   "cell_type": "markdown",
   "metadata": {},
   "source": [
    "From the data, it seems like the earlier months have lesser total rainfall than the later months."
   ]
  },
  {
   "cell_type": "markdown",
   "metadata": {},
   "source": [
    "## Which year have the highest and lowest total rainfall in the date range of analysis?"
   ]
  },
  {
   "cell_type": "code",
   "execution_count": 19,
   "metadata": {},
   "outputs": [
    {
     "name": "stdout",
     "output_type": "stream",
     "text": [
      "The year with the lowest total rainfall is 2014 with 0.2 millimetres.\n",
      "The year with the highest total rainfall is 2006 with 765.9 millimetres.\n"
     ]
    }
   ],
   "source": [
    "# We have to get the ids then the year of the lowest and highest total rainfall\n",
    "rainfall_monthly_total.head()\n",
    "\n",
    "# Find the index (year) with the highest and lowest total_rainfall\n",
    "max_total_rainfall_year = rainfall_monthly_total['total_rainfall'].idxmax()\n",
    "min_total_rainfall_year = rainfall_monthly_total['total_rainfall'].idxmin()\n",
    "\n",
    "# Get the corresponding row (year) with the lowest and highest total rainfall\n",
    "maximum = rainfall_monthly_total.loc[max_total_rainfall_year]\n",
    "minimum = rainfall_monthly_total.loc[min_total_rainfall_year]\n",
    "\n",
    "print(f'The year with the lowest total rainfall is {minimum[\"year\"]} with {minimum[\"total_rainfall\"]} millimetres.')\n",
    "print(f'The year with the highest total rainfall is {maximum[\"year\"]} with {maximum[\"total_rainfall\"]} millimetres.')"
   ]
  },
  {
   "cell_type": "markdown",
   "metadata": {},
   "source": [
    "These could be potential outliers"
   ]
  },
  {
   "cell_type": "markdown",
   "metadata": {},
   "source": [
    "## Are there any outliers months in the number or rainy days dataset?"
   ]
  },
  {
   "cell_type": "code",
   "execution_count": 20,
   "metadata": {},
   "outputs": [
    {
     "name": "stdout",
     "output_type": "stream",
     "text": [
      "The IQR is 144.225. The lower bound is -122.48749999999998 and the upper bound is 454.41249999999997.\n",
      "Yes, there are outliers:\n",
      "         month  total_rainfall  months  year\n",
      "11  1982-12-01           494.1      12  1982\n",
      "25  1984-02-01           470.4       2  1984\n",
      "60  1987-01-01           568.6       1  1987\n",
      "94  1989-11-01           508.4      11  1989\n",
      "119 1991-12-01           492.3      12  1991\n",
      "130 1992-11-01           474.3      11  1992\n",
      "131 1992-12-01           502.7      12  1992\n",
      "203 1998-12-01           463.4      12  1998\n",
      "239 2001-12-01           609.0      12  2001\n",
      "264 2004-01-01           600.9       1  2004\n",
      "299 2006-12-01           765.9      12  2006\n",
      "311 2007-12-01           468.6      12  2007\n",
      "348 2011-01-01           513.2       1  2011\n",
      "468 2021-01-01           692.8       1  2021\n"
     ]
    }
   ],
   "source": [
    "# Calculate Q1 and Q3\n",
    "Q1 = rainfall_monthly_total['total_rainfall'].quantile(0.25)\n",
    "Q3 = rainfall_monthly_total['total_rainfall'].quantile(0.75)\n",
    "\n",
    "# Calculate IQR\n",
    "IQR = Q3 - Q1\n",
    "\n",
    "# Define lower bound (LB) and upper bound (UB)\n",
    "LB = Q1 - 1.5 * IQR\n",
    "UB = Q3 + 1.5 * IQR\n",
    "\n",
    "# Print the IQR, LB, and UB\n",
    "print(f\"The IQR is {IQR}. The lower bound is {LB} and the upper bound is {UB}.\")\n",
    "\n",
    "# Identify outliers\n",
    "outliers = rainfall_monthly_total[(rainfall_monthly_total['total_rainfall'] < LB) | (rainfall_monthly_total['total_rainfall'] > UB)]\n",
    "if outliers.empty:\n",
    "    print(\"There are no outliers.\")\n",
    "else:\n",
    "    print(\"Yes, there are outliers:\")\n",
    "    print(outliers)"
   ]
  },
  {
   "cell_type": "markdown",
   "metadata": {},
   "source": [
    "## Which month have the highest and lowest number of rainy days in 1990, 2000, 2010 and 2020?"
   ]
  },
  {
   "cell_type": "code",
   "execution_count": 21,
   "metadata": {
    "scrolled": false
   },
   "outputs": [
    {
     "data": {
      "text/html": [
       "<div>\n",
       "<style scoped>\n",
       "    .dataframe tbody tr th:only-of-type {\n",
       "        vertical-align: middle;\n",
       "    }\n",
       "\n",
       "    .dataframe tbody tr th {\n",
       "        vertical-align: top;\n",
       "    }\n",
       "\n",
       "    .dataframe thead th {\n",
       "        text-align: right;\n",
       "    }\n",
       "</style>\n",
       "<table border=\"1\" class=\"dataframe\">\n",
       "  <thead>\n",
       "    <tr style=\"text-align: right;\">\n",
       "      <th></th>\n",
       "      <th>month</th>\n",
       "      <th>no_of_rainy_days</th>\n",
       "      <th>quarter</th>\n",
       "      <th>year</th>\n",
       "      <th>months</th>\n",
       "    </tr>\n",
       "  </thead>\n",
       "  <tbody>\n",
       "    <tr>\n",
       "      <th>0</th>\n",
       "      <td>1982-01-01</td>\n",
       "      <td>10</td>\n",
       "      <td>1</td>\n",
       "      <td>1982</td>\n",
       "      <td>1</td>\n",
       "    </tr>\n",
       "    <tr>\n",
       "      <th>1</th>\n",
       "      <td>1982-02-01</td>\n",
       "      <td>5</td>\n",
       "      <td>1</td>\n",
       "      <td>1982</td>\n",
       "      <td>2</td>\n",
       "    </tr>\n",
       "    <tr>\n",
       "      <th>2</th>\n",
       "      <td>1982-03-01</td>\n",
       "      <td>11</td>\n",
       "      <td>1</td>\n",
       "      <td>1982</td>\n",
       "      <td>3</td>\n",
       "    </tr>\n",
       "    <tr>\n",
       "      <th>3</th>\n",
       "      <td>1982-04-01</td>\n",
       "      <td>14</td>\n",
       "      <td>2</td>\n",
       "      <td>1982</td>\n",
       "      <td>4</td>\n",
       "    </tr>\n",
       "    <tr>\n",
       "      <th>4</th>\n",
       "      <td>1982-05-01</td>\n",
       "      <td>10</td>\n",
       "      <td>2</td>\n",
       "      <td>1982</td>\n",
       "      <td>5</td>\n",
       "    </tr>\n",
       "    <tr>\n",
       "      <th>...</th>\n",
       "      <td>...</td>\n",
       "      <td>...</td>\n",
       "      <td>...</td>\n",
       "      <td>...</td>\n",
       "      <td>...</td>\n",
       "    </tr>\n",
       "    <tr>\n",
       "      <th>483</th>\n",
       "      <td>2022-04-01</td>\n",
       "      <td>18</td>\n",
       "      <td>2</td>\n",
       "      <td>2022</td>\n",
       "      <td>4</td>\n",
       "    </tr>\n",
       "    <tr>\n",
       "      <th>484</th>\n",
       "      <td>2022-05-01</td>\n",
       "      <td>12</td>\n",
       "      <td>2</td>\n",
       "      <td>2022</td>\n",
       "      <td>5</td>\n",
       "    </tr>\n",
       "    <tr>\n",
       "      <th>485</th>\n",
       "      <td>2022-06-01</td>\n",
       "      <td>17</td>\n",
       "      <td>2</td>\n",
       "      <td>2022</td>\n",
       "      <td>6</td>\n",
       "    </tr>\n",
       "    <tr>\n",
       "      <th>486</th>\n",
       "      <td>2022-07-01</td>\n",
       "      <td>16</td>\n",
       "      <td>3</td>\n",
       "      <td>2022</td>\n",
       "      <td>7</td>\n",
       "    </tr>\n",
       "    <tr>\n",
       "      <th>487</th>\n",
       "      <td>2022-08-01</td>\n",
       "      <td>15</td>\n",
       "      <td>3</td>\n",
       "      <td>2022</td>\n",
       "      <td>8</td>\n",
       "    </tr>\n",
       "  </tbody>\n",
       "</table>\n",
       "<p>488 rows × 5 columns</p>\n",
       "</div>"
      ],
      "text/plain": [
       "         month  no_of_rainy_days  quarter  year  months\n",
       "0   1982-01-01                10        1  1982       1\n",
       "1   1982-02-01                 5        1  1982       2\n",
       "2   1982-03-01                11        1  1982       3\n",
       "3   1982-04-01                14        2  1982       4\n",
       "4   1982-05-01                10        2  1982       5\n",
       "..         ...               ...      ...   ...     ...\n",
       "483 2022-04-01                18        2  2022       4\n",
       "484 2022-05-01                12        2  2022       5\n",
       "485 2022-06-01                17        2  2022       6\n",
       "486 2022-07-01                16        3  2022       7\n",
       "487 2022-08-01                15        3  2022       8\n",
       "\n",
       "[488 rows x 5 columns]"
      ]
     },
     "execution_count": 21,
     "metadata": {},
     "output_type": "execute_result"
    }
   ],
   "source": [
    "# Then convert the 'month' column from the rainfall dataframe to datetime format\n",
    "rainfall_monthly['month'] = pd.to_datetime(rainfall_monthly_total['month'])\n",
    "\n",
    "# Extract month information and create a new column 'months'\n",
    "rainfall_monthly['months'] = rainfall_monthly_total['month'].dt.month\n",
    "rainfall_monthly"
   ]
  },
  {
   "cell_type": "code",
   "execution_count": 22,
   "metadata": {},
   "outputs": [
    {
     "name": "stdout",
     "output_type": "stream",
     "text": [
      "\n",
      "Analysis for the year 1990:\n",
      "The month with the lowest number of rainy days is month 3 with 4 days.\n",
      "The month with the highest number of rainy days is month 9 with 17 days.\n",
      "\n",
      "Analysis for the year 2000:\n",
      "The month with the lowest number of rainy days is month 5 with 10 days.\n",
      "The month with the highest number of rainy days is month 11 with 21 days.\n",
      "\n",
      "Analysis for the year 2010:\n",
      "The month with the lowest number of rainy days is month 2 with 4 days.\n",
      "The month with the highest number of rainy days is month 11 with 21 days.\n",
      "\n",
      "Analysis for the year 2020:\n",
      "The month with the lowest number of rainy days is month 1 with 6 days.\n",
      "The month with the highest number of rainy days is month 7 with 22 days.\n"
     ]
    }
   ],
   "source": [
    "# Years to analyze\n",
    "years_to_analyze = [1990, 2000, 2010, 2020]\n",
    "\n",
    "for target_year in years_to_analyze:\n",
    "    # Filter the DataFrame for the specified year\n",
    "    filtered_df = rainfall_monthly[rainfall_monthly['year'] == target_year]\n",
    "\n",
    "    # Find the index (month) with the highest and lowest total_rainfall for the specified year\n",
    "    max_rainfall_month = filtered_df['no_of_rainy_days'].idxmax()\n",
    "    min_rainfall_month = filtered_df['no_of_rainy_days'].idxmin()\n",
    "\n",
    "    # Get the corresponding row (month) with the highest and lowest total_rainfall\n",
    "    maximum = filtered_df.loc[max_rainfall_month]\n",
    "    minimum = filtered_df.loc[min_rainfall_month]\n",
    "\n",
    "    # Print the result for the current year\n",
    "    print(f'\\nAnalysis for the year {target_year}:')\n",
    "    print(f'The month with the lowest number of rainy days is month {minimum[\"months\"]} with {minimum[\"no_of_rainy_days\"]} days.')\n",
    "    print(f'The month with the highest number of rainy days is month {maximum[\"months\"]} with {maximum[\"no_of_rainy_days\"]} days.')"
   ]
  },
  {
   "cell_type": "markdown",
   "metadata": {},
   "source": [
    "From the data, it seems like the earlier months have lesser number of rainy days than the later months."
   ]
  },
  {
   "cell_type": "markdown",
   "metadata": {},
   "source": [
    "## Which year have the highest and lowest number of rainy days in the date range of analysis?"
   ]
  },
  {
   "cell_type": "code",
   "execution_count": 23,
   "metadata": {},
   "outputs": [
    {
     "name": "stdout",
     "output_type": "stream",
     "text": [
      "The year with the lowest total rainfall is 2014 with 1 days.\n",
      "The year with the highest total rainfall is 2018 with 27 days.\n"
     ]
    }
   ],
   "source": [
    "# We have to get the ids then the year of the lowest and highest total rainfall\n",
    "rainfall_monthly.head()\n",
    "\n",
    "# Find the index (year) with the highest and lowest total_rainfall\n",
    "max_total_rainfall_year = rainfall_monthly['no_of_rainy_days'].idxmax()\n",
    "min_total_rainfall_year = rainfall_monthly['no_of_rainy_days'].idxmin()\n",
    "\n",
    "# Get the corresponding row (year) with the lowest and highest total rainfall\n",
    "maximum = rainfall_monthly.loc[max_total_rainfall_year]\n",
    "minimum = rainfall_monthly.loc[min_total_rainfall_year]\n",
    "\n",
    "print(f'The year with the lowest total rainfall is {minimum[\"year\"]} with {minimum[\"no_of_rainy_days\"]} days.')\n",
    "print(f'The year with the highest total rainfall is {maximum[\"year\"]} with {maximum[\"no_of_rainy_days\"]} days.')"
   ]
  },
  {
   "cell_type": "markdown",
   "metadata": {},
   "source": [
    "These are potential outliers."
   ]
  },
  {
   "cell_type": "markdown",
   "metadata": {},
   "source": [
    "## Are there any outliers months in the number or rainy days dataset?"
   ]
  },
  {
   "cell_type": "code",
   "execution_count": 24,
   "metadata": {},
   "outputs": [
    {
     "name": "stdout",
     "output_type": "stream",
     "text": [
      "The IQR is 7.0. The lower bound is 0.5 and the upper bound is 28.5.\n",
      "There are no outliers.\n"
     ]
    }
   ],
   "source": [
    "# Calculate Q1 and Q3\n",
    "Q1 = rainfall_monthly['no_of_rainy_days'].quantile(0.25)\n",
    "Q3 = rainfall_monthly['no_of_rainy_days'].quantile(0.75)\n",
    "\n",
    "# Calculate IQR\n",
    "IQR = Q3 - Q1\n",
    "\n",
    "# Define lower bound (LB) and upper bound (UB)\n",
    "LB = Q1 - 1.5 * IQR\n",
    "UB = Q3 + 1.5 * IQR\n",
    "\n",
    "# Print the IQR, LB, and UB\n",
    "print(f\"The IQR is {IQR}. The lower bound is {LB} and the upper bound is {UB}.\")\n",
    "\n",
    "# Identify outliers\n",
    "outliers = rainfall_monthly[(rainfall_monthly['no_of_rainy_days'] < LB) | (rainfall_monthly['no_of_rainy_days'] > UB)]\n",
    "if outliers.empty:\n",
    "    print(\"There are no outliers.\")\n",
    "else:\n",
    "    print(\"Yes, there are outliers:\")\n",
    "    print(outliers)"
   ]
  },
  {
   "cell_type": "markdown",
   "metadata": {},
   "source": [
    "## Visualize the Data\n",
    "\n",
    "There's not a magic bullet recommendation for the right number of plots to understand a given dataset, but visualizing your data is *always* a good idea. Not only does it allow you to quickly convey your findings (even if you have a non-technical audience), it will often reveal trends in your data that escaped you when you were looking only at numbers. It is important to not only create visualizations, but to **interpret your visualizations** as well.\n",
    "\n",
    "**Every plot should**:\n",
    "- Have a title\n",
    "- Have axis labels\n",
    "- Have appropriate tick labels\n",
    "- Text is legible in a plot\n",
    "- Plots demonstrate meaningful and valid relationships\n",
    "- Have an interpretation to aid understanding\n",
    "\n",
    "Here is an example of what your plots should look like following the above guidelines. Note that while the content of this example is unrelated, the principles of visualization hold:\n",
    "\n",
    "![](https://snag.gy/hCBR1U.jpg)\n",
    "*Interpretation: The above image shows that as we increase our spending on advertising, our sales numbers also tend to increase. There is a positive correlation between advertising spending and sales.*\n",
    "\n",
    "---\n",
    "\n",
    "Here are some prompts to get you started with visualizations. Feel free to add additional visualizations as you see fit:\n",
    "1. Use Seaborn's heatmap with pandas `.corr()` to visualize correlations between all numeric features.\n",
    "    - Heatmaps are generally not appropriate for presentations, and should often be excluded from reports as they can be visually overwhelming. **However**, they can be extremely useful in identify relationships of potential interest (as well as identifying potential collinearity before modeling).\n",
    "    - Please take time to format your output, adding a title. Look through some of the additional arguments and options. (Axis labels aren't really necessary, as long as the title is informative).\n",
    "2. Visualize distributions using histograms. If you have a lot, consider writing a custom function and use subplots.\n",
    "    - *OPTIONAL*: Summarize the underlying distributions of your features (in words & statistics)\n",
    "         - Be thorough in your verbal description of these distributions.\n",
    "         - Be sure to back up these summaries with statistics.\n",
    "         - We generally assume that data we sample from a population will be normally distributed. Do we observe this trend? Explain your answers for each distribution and how you think this will affect estimates made from these data.\n",
    "3. Plot and interpret boxplots. \n",
    "    - Boxplots demonstrate central tendency and spread in variables. In a certain sense, these are somewhat redundant with histograms, but you may be better able to identify clear outliers or differences in IQR, etc.\n",
    "    - Multiple values can be plotted to a single boxplot as long as they are of the same relative scale (meaning they have similar min/max values).\n",
    "    - Each boxplot should:\n",
    "        - Only include variables of a similar scale\n",
    "        - Have clear labels for each variable\n",
    "        - Have appropriate titles and labels\n",
    "4. Plot and interpret scatter plots to view relationships between features. Feel free to write a custom function, and subplot if you'd like. Functions save both time and space.\n",
    "    - Your plots should have:\n",
    "        - Two clearly labeled axes\n",
    "        - A proper title\n",
    "        - Colors and symbols that are clear and unmistakable\n",
    "5. Additional plots of your choosing.\n",
    "    - Are there any additional trends or relationships you haven't explored? Was there something interesting you saw that you'd like to dive further into? It's likely that there are a few more plots you might want to generate to support your narrative and recommendations that you are building toward. **As always, make sure you're interpreting your plots as you go**."
   ]
  },
  {
   "cell_type": "markdown",
   "metadata": {},
   "source": [
    "Some ideas for plots that can be generated:\n",
    "\n",
    "- Plot the histogram of the rainfall data with various bins and comment on the distribution of the data - is it centered, skewed?\n",
    "- Plot the box-and-whiskers plot. Comment on the different quartiles and identify any outliers in the dataset. \n",
    "- Is there a correlation between the number of rainy days and total rainfall in the month? What kind of correlation do your suspect? Does the graph show the same?\n"
   ]
  },
  {
   "cell_type": "code",
   "execution_count": 25,
   "metadata": {},
   "outputs": [
    {
     "data": {
      "image/png": "[encoded data removed]",
      "text/plain": [
       "<Figure size 1000x800 with 2 Axes>"
      ]
     },
     "metadata": {},
     "output_type": "display_data"
    }
   ],
   "source": [
    "# Heatmap\n",
    "mobile_data_correlations = merged_df.corr();\n",
    "plt.figure(figsize=(10, 8))\n",
    "sns.heatmap(mobile_data_correlations, annot=True, fmt=\".2f\", cmap=\"coolwarm\")\n",
    "plt.title(\"Correlation Heatmap\")\n",
    "plt.show()"
   ]
  },
  {
   "cell_type": "code",
   "execution_count": 26,
   "metadata": {},
   "outputs": [
    {
     "name": "stderr",
     "output_type": "stream",
     "text": [
      "/var/folders/gz/0s3_gtm96g31kmtlqtm7x4v80000gn/T/ipykernel_96413/130242869.py:3: SettingWithCopyWarning: \n",
      "A value is trying to be set on a copy of a slice from a DataFrame.\n",
      "Try using .loc[row_indexer,col_indexer] = value instead\n",
      "\n",
      "See the caveats in the documentation: https://pandas.pydata.org/pandas-docs/stable/user_guide/indexing.html#returning-a-view-versus-a-copy\n",
      "  merged_df['year_quarter'] = merged_df['year'].astype(str) + '-Q' + merged_df['quarter'].astype(str)\n"
     ]
    },
    {
     "data": {
      "image/png": "[encoded data removed]",
      "text/plain": [
       "<Figure size 1000x600 with 1 Axes>"
      ]
     },
     "metadata": {},
     "output_type": "display_data"
    }
   ],
   "source": [
    "# Plot the histogram of rainy days by year-quarter \n",
    "# Combine year and quarter to create a new column \"year_quarter\"\n",
    "merged_df['year_quarter'] = merged_df['year'].astype(str) + '-Q' + merged_df['quarter'].astype(str)\n",
    "\n",
    "# Group the data by year_quarter and calculate the total rainy days for each year_quarter\n",
    "yearly_quarterly_rainy_days = merged_df.groupby('year_quarter')['relative_no_of_rainy_days'].sum()\n",
    "\n",
    "# Plot the data\n",
    "plt.figure(figsize=(10, 6))\n",
    "yearly_quarterly_rainy_days.plot(kind='bar')\n",
    "\n",
    "# Create a line plot with markers\n",
    "x = np.arange(len(yearly_quarterly_rainy_days))  # Create x values for the line plot\n",
    "y = yearly_quarterly_rainy_days.values            # Get the values for the bar chart\n",
    "\n",
    "# Plot the line connecting data points\n",
    "plt.plot(x, y, marker='o', linestyle='-', color='red', label='Data Points')\n",
    "\n",
    "# Customize x-axis tick labels to only include the labels for the year's first and last quarter to differentiate between the years\n",
    "tick_labels = [label if label.endswith('-Q1') or label.endswith('-Q4') else '' for label in yearly_quarterly_rainy_days.index]\n",
    "plt.xticks(range(len(yearly_quarterly_rainy_days.index)), tick_labels, rotation=90)\n",
    "\n",
    "# Labels for the plot\n",
    "plt.xlabel('Year-Quarter')\n",
    "plt.ylabel('Relative number of rainy days')\n",
    "plt.title('Relative number of rainy Days by Year-Quarter')\n",
    "\n",
    "# Legend\n",
    "plt.legend()\n",
    "\n",
    "# Save or display the plot\n",
    "plt.tight_layout()  # Adjust layout for better spacing\n",
    "plt.savefig('rainy_days_by_year_quarter_with_trendline.png', transparent=True)\n",
    "plt.show()"
   ]
  },
  {
   "cell_type": "code",
   "execution_count": 27,
   "metadata": {
    "scrolled": false
   },
   "outputs": [
    {
     "data": {
      "image/png": "[encoded data removed]",
      "text/plain": [
       "<Figure size 1000x600 with 1 Axes>"
      ]
     },
     "metadata": {},
     "output_type": "display_data"
    }
   ],
   "source": [
    "# Plot the histogram of mobile data usage by year-quarter\n",
    "# Group the data by year_quarter and calculate the relative mobile data usage for each year_quarter\n",
    "yearly_quarterly_mobile_data = merged_df.groupby('year_quarter')['relative_volume_of_mobile_data'].sum()\n",
    "\n",
    "# Plot the data\n",
    "plt.figure(figsize=(10, 6))\n",
    "yearly_quarterly_mobile_data.plot(kind='bar')\n",
    "\n",
    "# Create a line plot with markers\n",
    "x = np.arange(len(yearly_quarterly_mobile_data))  # Create x values for the line plot\n",
    "y = yearly_quarterly_mobile_data.values            # Get the values for the bar chart\n",
    "\n",
    "# Plot the line connecting data points\n",
    "plt.plot(x, y, marker='o', linestyle='-', color='red', label='Data Points')\n",
    "\n",
    "# Customize x-axis tick labels\n",
    "tick_labels = [label if label.endswith('-Q1') or label.endswith('-Q4') else '' for label in yearly_quarterly_mobile_data.index]\n",
    "plt.xticks(range(len(yearly_quarterly_mobile_data.index)), tick_labels, rotation=90)\n",
    "\n",
    "# Labels for the plot\n",
    "plt.xlabel('Year-Quarter')\n",
    "plt.ylabel('Relative mobile data usage')\n",
    "plt.title('Relative mobile data usage by Year-Quarter')\n",
    "\n",
    "# Legend\n",
    "plt.legend()\n",
    "\n",
    "# Save or display the plot\n",
    "plt.tight_layout()  # Adjust layout for better spacing\n",
    "plt.savefig('Relative_mobile_data_usage_by_year_quarter.png', transparent=True)\n",
    "plt.show()"
   ]
  },
  {
   "cell_type": "code",
   "execution_count": 35,
   "metadata": {},
   "outputs": [
    {
     "name": "stdout",
     "output_type": "stream",
     "text": [
      "Average number of rainy days by quarter\n",
      "quarter\n",
      "1    35.214286\n",
      "2    43.928571\n",
      "3    43.285714\n",
      "4    56.357143\n",
      "Name: no_of_rainy_days, dtype: float64\n",
      "\n",
      "Average volume of mobile data by quarter\n",
      "quarter\n",
      "1    5.406840\n",
      "2    5.891363\n",
      "3    6.358986\n",
      "4    6.640433\n",
      "Name: volume_of_mobile_data, dtype: float64\n"
     ]
    }
   ],
   "source": [
    "# Find the average number of days that it rained in a quarter across the years 2005 until 2018\n",
    "# Group the data by quarter and calculate the average number of rainy days for each quarter\n",
    "quarterly_avg_rainy_days = merged_df.groupby('quarter')['no_of_rainy_days'].mean()\n",
    "\n",
    "# Display the result\n",
    "print(\"Average number of rainy days by quarter\")\n",
    "print(quarterly_avg_rainy_days)\n",
    "print(\"\")\n",
    "\n",
    "\n",
    "# Find the average amount of mobile data usage in a quarter across the years 2005 until 2018\n",
    "# Group the data by quarter and calculate the average amount of mobile data used for each quarter\n",
    "quarterly_avg_mobile_data = merged_df.groupby('quarter')['volume_of_mobile_data'].mean()\n",
    "\n",
    "# Display the result\n",
    "print(\"Average volume of mobile data by quarter\")\n",
    "print(quarterly_avg_mobile_data)"
   ]
  },
  {
   "cell_type": "code",
   "execution_count": 37,
   "metadata": {},
   "outputs": [
    {
     "data": {
      "text/html": [
       "<div>\n",
       "<style scoped>\n",
       "    .dataframe tbody tr th:only-of-type {\n",
       "        vertical-align: middle;\n",
       "    }\n",
       "\n",
       "    .dataframe tbody tr th {\n",
       "        vertical-align: top;\n",
       "    }\n",
       "\n",
       "    .dataframe thead th {\n",
       "        text-align: right;\n",
       "    }\n",
       "</style>\n",
       "<table border=\"1\" class=\"dataframe\">\n",
       "  <thead>\n",
       "    <tr style=\"text-align: right;\">\n",
       "      <th></th>\n",
       "      <th>no_of_rainy_days</th>\n",
       "      <th>relative_no_of_rainy_days</th>\n",
       "      <th>volume_of_mobile_data</th>\n",
       "      <th>relative_volume_of_mobile_data</th>\n",
       "    </tr>\n",
       "    <tr>\n",
       "      <th>quarter</th>\n",
       "      <th></th>\n",
       "      <th></th>\n",
       "      <th></th>\n",
       "      <th></th>\n",
       "    </tr>\n",
       "  </thead>\n",
       "  <tbody>\n",
       "    <tr>\n",
       "      <th>1</th>\n",
       "      <td>493</td>\n",
       "      <td>2.699952</td>\n",
       "      <td>75.695766</td>\n",
       "      <td>2.699056</td>\n",
       "    </tr>\n",
       "    <tr>\n",
       "      <th>2</th>\n",
       "      <td>615</td>\n",
       "      <td>3.466898</td>\n",
       "      <td>82.479084</td>\n",
       "      <td>3.106766</td>\n",
       "    </tr>\n",
       "    <tr>\n",
       "      <th>3</th>\n",
       "      <td>606</td>\n",
       "      <td>3.410457</td>\n",
       "      <td>89.025802</td>\n",
       "      <td>3.684164</td>\n",
       "    </tr>\n",
       "    <tr>\n",
       "      <th>4</th>\n",
       "      <td>789</td>\n",
       "      <td>4.422694</td>\n",
       "      <td>92.966068</td>\n",
       "      <td>4.510014</td>\n",
       "    </tr>\n",
       "  </tbody>\n",
       "</table>\n",
       "</div>"
      ],
      "text/plain": [
       "         no_of_rainy_days  relative_no_of_rainy_days  volume_of_mobile_data  \\\n",
       "quarter                                                                       \n",
       "1                     493                   2.699952              75.695766   \n",
       "2                     615                   3.466898              82.479084   \n",
       "3                     606                   3.410457              89.025802   \n",
       "4                     789                   4.422694              92.966068   \n",
       "\n",
       "         relative_volume_of_mobile_data  \n",
       "quarter                                  \n",
       "1                              2.699056  \n",
       "2                              3.106766  \n",
       "3                              3.684164  \n",
       "4                              4.510014  "
      ]
     },
     "execution_count": 37,
     "metadata": {},
     "output_type": "execute_result"
    }
   ],
   "source": [
    "grouped_df = merged_df.drop('year', axis=1).groupby('quarter').sum(numeric_only=True)\n",
    "grouped_df"
   ]
  },
  {
   "cell_type": "code",
   "execution_count": 34,
   "metadata": {},
   "outputs": [
    {
     "data": {
      "text/plain": [
       "Text(0, 0.5, 'Relative Mobile Data Usage')"
      ]
     },
     "execution_count": 34,
     "metadata": {},
     "output_type": "execute_result"
    },
    {
     "data": {
      "image/png": "[encoded data removed]",
      "text/plain": [
       "<Figure size 1000x1000 with 1 Axes>"
      ]
     },
     "metadata": {},
     "output_type": "display_data"
    }
   ],
   "source": [
    "fig = plt.figure(figsize = (10, 10))\n",
    "sns.barplot(data = grouped_df, x = grouped_df.index, y = 'relative_volume_of_mobile_data')\n",
    "plt.title('Relative Mobile Usage Per Quarter')\n",
    "plt.xlabel('Quarters')\n",
    "plt.ylabel('Relative Mobile Data Usage')"
   ]
  },
  {
   "cell_type": "code",
   "execution_count": 38,
   "metadata": {},
   "outputs": [
    {
     "data": {
      "text/plain": [
       "Text(0, 0.5, 'Relative Number of Rainy Days')"
      ]
     },
     "execution_count": 38,
     "metadata": {},
     "output_type": "execute_result"
    },
    {
     "data": {
      "image/png": "[encoded data removed]",
      "text/plain": [
       "<Figure size 1000x1000 with 1 Axes>"
      ]
     },
     "metadata": {},
     "output_type": "display_data"
    }
   ],
   "source": [
    "fig = plt.figure(figsize = (10, 10))\n",
    "sns.barplot(data = grouped_df, x = grouped_df.index, y = 'relative_no_of_rainy_days')\n",
    "plt.title('Relative Number of Rainy Days Per Quarter')\n",
    "plt.xlabel('Quarters')\n",
    "plt.ylabel('Relative Number of Rainy Days')"
   ]
  },
  {
   "cell_type": "code",
   "execution_count": 28,
   "metadata": {
    "scrolled": false
   },
   "outputs": [
    {
     "data": {
      "image/png": "[encoded data removed]",
      "text/plain": [
       "<Figure size 640x480 with 1 Axes>"
      ]
     },
     "metadata": {},
     "output_type": "display_data"
    }
   ],
   "source": [
    "# Boxplot of relative number of rainy days \n",
    "merged_df.relative_no_of_rainy_days.plot(kind='box')\n",
    "plt.title('Boxplot of relative number of rainy days')\n",
    "plt.show()"
   ]
  },
  {
   "cell_type": "code",
   "execution_count": 29,
   "metadata": {
    "scrolled": true
   },
   "outputs": [
    {
     "data": {
      "image/png": "[encoded data removed]",
      "text/plain": [
       "<Figure size 640x480 with 1 Axes>"
      ]
     },
     "metadata": {},
     "output_type": "display_data"
    }
   ],
   "source": [
    "# Boxplot of mobile data usage \n",
    "merged_df.relative_volume_of_mobile_data.plot(kind='box')\n",
    "plt.title('Boxplot of relative volume of mobile data')\n",
    "plt.show()"
   ]
  },
  {
   "cell_type": "code",
   "execution_count": 30,
   "metadata": {},
   "outputs": [
    {
     "data": {
      "image/png": "[encoded data removed]",
      "text/plain": [
       "<Figure size 1000x600 with 1 Axes>"
      ]
     },
     "metadata": {},
     "output_type": "display_data"
    }
   ],
   "source": [
    "# Create the Scatter Plot comparing the relative number of rainy days to the relative volume of mobile data usage\n",
    "plt.figure(figsize=(10, 6))\n",
    "plt.scatter(merged_df['relative_no_of_rainy_days'], merged_df['relative_volume_of_mobile_data'])\n",
    "\n",
    "# Calculate the Best-Fit Line\n",
    "slope, intercept = np.polyfit(merged_df['relative_no_of_rainy_days'], merged_df['relative_volume_of_mobile_data'], 1)\n",
    "x_values = np.array(merged_df['relative_no_of_rainy_days'])\n",
    "y_fit = slope * x_values + intercept\n",
    "\n",
    "# Plot the Scatter Plot and Best-Fit Line\n",
    "plt.plot(x_values, y_fit, color='red', label='Best-Fit Line')\n",
    "\n",
    "# Set Labels and Title\n",
    "plt.xlabel('Relative Number of Rainy Days')\n",
    "plt.ylabel('Relative Volume of Mobile Data')\n",
    "plt.title('Scatter Plot with Best-Fit Line')\n",
    "plt.legend()\n",
    "\n",
    "# Save the plot as a PNG file\n",
    "plt.savefig('scatter_plot_with_best_fit_line.png', transparent=True)\n",
    "\n",
    "# Display the plot\n",
    "plt.show()"
   ]
  },
  {
   "cell_type": "markdown",
   "metadata": {},
   "source": [
    "## Conclusions and Recommendations"
   ]
  },
  {
   "cell_type": "markdown",
   "metadata": {},
   "source": [
    "Based on your exploration of the data, what are you key takeaways and recommendations? Make sure to answer your question of interest or address your problem statement here."
   ]
  },
  {
   "cell_type": "markdown",
   "metadata": {},
   "source": [
    "**Conclusion**\n",
    "\n",
    "Upon examining the rainfall data, a noticeable trend emerges, indicating a higher frequency of rainy days during the final quarter of the year. Correspondingly, mobile data consumption experiences an uptick during the same period. Furthermore, an analysis reveals a positive correlation of 0.39 between these variables.\n",
    "\n",
    "**Recommendations**\n",
    "\n",
    "To enhance customer satisfaction and retention, one strategic option is to provide customers with a data boost during the rainy last quarter. \n",
    "\n",
    "Another avenue for consideration is to implement enticing promotional campaigns during periods of increased rainfall, thereby seizing a larger share of the market."
   ]
  },
  {
   "cell_type": "markdown",
   "metadata": {},
   "source": [
    "**Citations**\n",
    "\n",
    "Source 1: https://martech.org/why-social-media-marketers-need-to-follow-the-weather/\n",
    "        \n",
    "Source 2: https://beta.data.gov.sg/datasets/213/view"
   ]
  }
 ],
 "metadata": {
  "anaconda-cloud": {},
  "kernelspec": {
   "display_name": "Python 3 (ipykernel)",
   "language": "python",
   "name": "python3"
  },
  "language_info": {
   "codemirror_mode": {
    "name": "ipython",
    "version": 3
   },
   "file_extension": ".py",
   "mimetype": "text/x-python",
   "name": "python",
   "nbconvert_exporter": "python",
   "pygments_lexer": "ipython3",
   "version": "3.11.3"
  }
 },
 "nbformat": 4,
 "nbformat_minor": 4
}
